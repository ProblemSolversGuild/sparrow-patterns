{
 "cells": [
  {
   "cell_type": "code",
   "execution_count": 1,
   "id": "6e617587",
   "metadata": {},
   "outputs": [],
   "source": [
    "#| default_exp devcontainer.devcontainer"
   ]
  },
  {
   "cell_type": "markdown",
   "id": "aae53aab",
   "metadata": {},
   "source": [
    "# devcontainer"
   ]
  },
  {
   "cell_type": "markdown",
   "id": "0bc8752c",
   "metadata": {},
   "source": [
    "https://containers.dev/ - An open specification for enriching containers with development specific content and settings."
   ]
  },
  {
   "cell_type": "code",
   "execution_count": 2,
   "id": "ddb72f49",
   "metadata": {},
   "outputs": [],
   "source": [
    "#| export\n",
    "import os\n",
    "from pathlib import Path\n",
    "\n",
    "from jinja2 import Environment\n",
    "\n",
    "from sparrow_patterns.utils import get_source_directory"
   ]
  },
  {
   "cell_type": "code",
   "execution_count": 3,
   "id": "6f1eee57",
   "metadata": {},
   "outputs": [],
   "source": [
    "#| hide\n",
    "import tempfile"
   ]
  },
  {
   "cell_type": "code",
   "execution_count": 4,
   "id": "300c6225",
   "metadata": {},
   "outputs": [],
   "source": [
    "#| export\n",
    "def generate_devcontainer(\n",
    "    project_name: str, # The slug for the project. Should be the same as the GitHub repo.\n",
    "    package: bool = False, # Whether this is for a Python package\n",
    "    gpu: bool = False, # Whether to make the GPU available\n",
    "    project_directory: str = \".\", # Where to create the .devcontainer directory. Defaults to working directory.\n",
    "    template_directory: str = \".\" # Where the template directory is located. Defaults to working directory.\n",
    ") -> None:\n",
    "    \"\"\"\n",
    "    Write a .devcontainer directory for the project.\n",
    "\n",
    "    Parameters\n",
    "    ----------\n",
    "    project_name\n",
    "        The slug for the project. Should be the same as the GitHub repo.\n",
    "    package\n",
    "        Whether this is for a Python package\n",
    "    gpu\n",
    "        Whether to make the GPU available\n",
    "    project_directory\n",
    "        Where to create the .devcontainer folder. Defaults to working directory.\n",
    "    template_directory\n",
    "        Where the template directory is located. Defaults to working directory.\n",
    "    \"\"\"\n",
    "    env = Environment(autoescape=True)\n",
    "    source_directory = get_source_directory(project_name)\n",
    "    template_directory = Path(template_directory) / \"templates\"\n",
    "    output_directory = Path(project_directory) / \".devcontainer\"\n",
    "    output_directory.mkdir(exist_ok=True)\n",
    "    template_variables = dict(\n",
    "        project_name=project_name,\n",
    "        source_directory=source_directory,\n",
    "        package=package,\n",
    "        gpu=gpu,\n",
    "    )\n",
    "    for fname in os.listdir(template_directory):\n",
    "        if package and fname in (\".env.example\", \".gitignore\"):\n",
    "            continue\n",
    "        output_path = output_directory / fname\n",
    "        with open(template_directory / fname) as f:\n",
    "            template = env.from_string(f.read())\n",
    "        with open(output_path, \"w\") as f:\n",
    "            f.write(template.render(**template_variables))"
   ]
  },
  {
   "cell_type": "code",
   "execution_count": 5,
   "id": "4e0712da",
   "metadata": {},
   "outputs": [],
   "source": [
    "#| hide\n",
    "with tempfile.TemporaryDirectory() as project_directory:\n",
    "    generate_devcontainer(\n",
    "        project_name=\"foo-bar\",\n",
    "        package=True,\n",
    "        project_directory=project_directory,\n",
    "        template_directory='../sparrow_patterns/devcontainer'\n",
    "    )\n",
    "    source_directory = \"foo_bar\"\n",
    "    env_example_path = os.path.join(project_directory, \".devcontainer/.env.example\")\n",
    "    gitignore_path = os.path.join(project_directory, \".devcontainer/.gitignore\")\n",
    "    assert os.path.exists(env_example_path) == False\n",
    "    assert os.path.exists(gitignore_path) == False\n",
    "    config_path = os.path.join(project_directory, \".devcontainer/devcontainer.json\")\n",
    "    with open(config_path) as f:\n",
    "        assert source_directory in f.read()"
   ]
  },
  {
   "cell_type": "code",
   "execution_count": 6,
   "id": "f71a0656",
   "metadata": {},
   "outputs": [],
   "source": [
    "#| hide\n",
    "with tempfile.TemporaryDirectory() as project_directory:\n",
    "    generate_devcontainer(\n",
    "        project_name=\"hello-world\",\n",
    "        project_directory=project_directory,\n",
    "        template_directory='../sparrow_patterns/devcontainer'\n",
    "    )\n",
    "    env_example_path = os.path.join(project_directory, \".devcontainer/.env.example\")\n",
    "    with open(env_example_path) as f:\n",
    "        assert \"AWS_PROFILE=sparrow\" in f.read().splitlines()\n",
    "    config_path = os.path.join(project_directory, \".devcontainer/devcontainer.json\")\n",
    "    with open(config_path) as f:\n",
    "        assert \"source=${localEnv:HOME}/.darwin,target=/root/.darwin\" in f.read()"
   ]
  },
  {
   "cell_type": "code",
   "execution_count": 7,
   "id": "610b490c",
   "metadata": {},
   "outputs": [],
   "source": [
    "#| hide\n",
    "import nbdev; nbdev.nbdev_export()"
   ]
  }
 ],
 "metadata": {
  "kernelspec": {
   "display_name": "Python 3 (ipykernel)",
   "language": "python",
   "name": "python3"
  },
  "language_info": {
   "codemirror_mode": {
    "name": "ipython",
    "version": 3
   },
   "file_extension": ".py",
   "mimetype": "text/x-python",
   "name": "python",
   "nbconvert_exporter": "python",
   "pygments_lexer": "ipython3",
   "version": "3.9.10"
  }
 },
 "nbformat": 4,
 "nbformat_minor": 5
}
