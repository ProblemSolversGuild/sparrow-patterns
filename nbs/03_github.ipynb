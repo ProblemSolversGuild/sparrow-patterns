{
 "cells": [
  {
   "cell_type": "code",
   "execution_count": 1,
   "id": "6e617587",
   "metadata": {},
   "outputs": [],
   "source": [
    "#| default_exp github.github"
   ]
  },
  {
   "cell_type": "markdown",
   "id": "aae53aab",
   "metadata": {},
   "source": [
    "# github"
   ]
  },
  {
   "cell_type": "markdown",
   "id": "0bc8752c",
   "metadata": {},
   "source": [
    "Create a new .github directory"
   ]
  },
  {
   "cell_type": "code",
   "execution_count": 2,
   "id": "ddb72f49",
   "metadata": {},
   "outputs": [],
   "source": [
    "#| export\n",
    "from pathlib import Path"
   ]
  },
  {
   "cell_type": "code",
   "execution_count": 3,
   "id": "6f1eee57",
   "metadata": {},
   "outputs": [],
   "source": [
    "#| hide\n",
    "import tempfile\n",
    "import os"
   ]
  },
  {
   "cell_type": "code",
   "execution_count": 4,
   "id": "5a325a39",
   "metadata": {},
   "outputs": [],
   "source": [
    "#| export\n",
    "def generate_github(project_directory: str = \".\", # Where to create the .github folder.\n",
    "                    template_directory: str = \".\" # Where to get template files from\n",
    "                   ) -> None:\n",
    "    \"\"\"\n",
    "    Write a .github directory for the project.\n",
    "\n",
    "    Parameters\n",
    "    ----------\n",
    "    project_directory\n",
    "        Where to create the .github folder. Defaults to working directory.\n",
    "    \"\"\"\n",
    "    template_directory = Path(template_directory) / \"templates\"\n",
    "    output_directory = Path(project_directory) / \".github/workflows\"\n",
    "    filename = \"build.yml\"\n",
    "    output_directory.mkdir(parents=True, exist_ok=True)\n",
    "    with open(template_directory / filename) as f:\n",
    "        file_string = f.read()\n",
    "    with open(output_directory / filename, \"w\") as f:\n",
    "        f.write(file_string)\n"
   ]
  },
  {
   "cell_type": "code",
   "execution_count": 5,
   "id": "4e0712da",
   "metadata": {},
   "outputs": [],
   "source": [
    "#| hide\n",
    "with tempfile.TemporaryDirectory() as project_directory:\n",
    "    generate_github(project_directory=project_directory,\n",
    "                    template_directory='../sparrow_patterns/github'\n",
    "                   )\n",
    "    github_path = os.path.join(project_directory, \".github/workflows/build.yml\")\n",
    "    with open(github_path) as f:\n",
    "        assert \"on: [push]\" in f.read().splitlines()"
   ]
  },
  {
   "cell_type": "code",
   "execution_count": 6,
   "id": "610b490c",
   "metadata": {},
   "outputs": [],
   "source": [
    "#| hide\n",
    "import nbdev; nbdev.nbdev_export()"
   ]
  }
 ],
 "metadata": {
  "kernelspec": {
   "display_name": "Python 3 (ipykernel)",
   "language": "python",
   "name": "python3"
  },
  "language_info": {
   "codemirror_mode": {
    "name": "ipython",
    "version": 3
   },
   "file_extension": ".py",
   "mimetype": "text/x-python",
   "name": "python",
   "nbconvert_exporter": "python",
   "pygments_lexer": "ipython3",
   "version": "3.9.10"
  }
 },
 "nbformat": 4,
 "nbformat_minor": 5
}
