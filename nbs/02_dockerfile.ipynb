{
 "cells": [
  {
   "cell_type": "code",
   "execution_count": 1,
   "id": "6e617587",
   "metadata": {},
   "outputs": [],
   "source": [
    "#| default_exp dockerfile.dockerfile"
   ]
  },
  {
   "cell_type": "markdown",
   "id": "aae53aab",
   "metadata": {},
   "source": [
    "# dockerfile"
   ]
  },
  {
   "cell_type": "markdown",
   "id": "0bc8752c",
   "metadata": {},
   "source": [
    "Create a new dockerfile depending on the needs of the new project"
   ]
  },
  {
   "cell_type": "code",
   "execution_count": 2,
   "id": "ddb72f49",
   "metadata": {},
   "outputs": [],
   "source": [
    "#| export\n",
    "import os\n",
    "from pathlib import Path\n",
    "\n",
    "from jinja2 import Environment"
   ]
  },
  {
   "cell_type": "code",
   "execution_count": 3,
   "id": "6f1eee57",
   "metadata": {},
   "outputs": [],
   "source": [
    "#| hide\n",
    "import tempfile"
   ]
  },
  {
   "cell_type": "code",
   "execution_count": 6,
   "id": "300c6225",
   "metadata": {},
   "outputs": [],
   "source": [
    "#| export\n",
    "def generate_dockerfile(\n",
    "    gpu: bool = False, # Whether to make the GPU available\n",
    "    deepstream: bool = False, # Whether to set up project for DeepStream\n",
    "    project_directory: str = \".\", # Where to create the dockerfile. Defaults to working directory.\n",
    "    template_directory: str = \".\", # Where to create the .devcontainer folder. Defaults to working directory.\n",
    ") -> None:\n",
    "    \"\"\"\n",
    "    Write a Dockerfile the project.\n",
    "\n",
    "    Parameters\n",
    "    ----------\n",
    "    gpu\n",
    "        Whether to make the GPU available\n",
    "    deepstream\n",
    "        Whether to set up project for DeepStream\n",
    "    project_directory\n",
    "        Where to create the dockerfile. Defaults to working directory.\n",
    "    template_directory\n",
    "        Where the template directory is located. Defaults to working directory.\n",
    "    \"\"\"\n",
    "    env = Environment(autoescape=True)\n",
    "    template_directory = Path(template_directory) / \"templates\"\n",
    "    output_directory = Path(project_directory)\n",
    "    template_variables = dict(gpu=gpu, deepstream=deepstream)\n",
    "    for fname in os.listdir(template_directory):\n",
    "        output_path = output_directory / fname\n",
    "        with open(template_directory / fname) as f:\n",
    "            template = env.from_string(f.read())\n",
    "        with open(output_path, \"w\") as f:\n",
    "            f.write(template.render(**template_variables))"
   ]
  },
  {
   "cell_type": "code",
   "execution_count": 9,
   "id": "4e0712da",
   "metadata": {},
   "outputs": [],
   "source": [
    "#| hide\n",
    "with tempfile.TemporaryDirectory() as project_directory:\n",
    "    generate_dockerfile(project_directory=project_directory,\n",
    "                        template_directory='../sparrow_patterns/dockerfile'\n",
    "                       )\n",
    "    dockerfile_path = os.path.join(project_directory, \"Dockerfile\")\n",
    "    with open(dockerfile_path) as f:\n",
    "        assert \"FROM python:3.9\" in f.read().splitlines()"
   ]
  },
  {
   "cell_type": "code",
   "execution_count": 10,
   "id": "610b490c",
   "metadata": {},
   "outputs": [],
   "source": [
    "#| hide\n",
    "import nbdev; nbdev.nbdev_export()"
   ]
  },
  {
   "cell_type": "code",
   "execution_count": null,
   "id": "252c3a50",
   "metadata": {},
   "outputs": [],
   "source": []
  }
 ],
 "metadata": {
  "kernelspec": {
   "display_name": "Python 3 (ipykernel)",
   "language": "python",
   "name": "python3"
  },
  "language_info": {
   "codemirror_mode": {
    "name": "ipython",
    "version": 3
   },
   "file_extension": ".py",
   "mimetype": "text/x-python",
   "name": "python",
   "nbconvert_exporter": "python",
   "pygments_lexer": "ipython3",
   "version": "3.9.10"
  }
 },
 "nbformat": 4,
 "nbformat_minor": 5
}
